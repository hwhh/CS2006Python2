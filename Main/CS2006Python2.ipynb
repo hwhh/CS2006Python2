{
 "cells": [
  {
   "cell_type": "code",
   "execution_count": 2,
   "metadata": {
    "collapsed": false,
    "deletable": true,
    "editable": true
   },
   "outputs": [],
   "source": [
    "import pandas as pd\n",
    "import matplotlib.pyplot as plt\n",
    "from mpl_toolkits.mplot3d import Axes3D\n",
    "import numpy as np\n",
    "from tabulate import tabulate\n",
    "import plotly\n",
    "import plotly.plotly as py\n",
    "import folium\n",
    "\n",
    "\n",
    "\n",
    "plotly.tools.set_credentials_file(username='hwhh', api_key='N2vCMdq9jiSqdFGIzNsD')\n",
    "\n",
    "colours = ['#009094', '#97bf0d', '#0028ff', '#68071d', '#7aa74d', '#164af9', '#615a51', '#0b4a72', '#b8101f', '#e6dbaf',\n",
    "           '#e1fffe', '#0e320c', '#e3f1fd', '#f0c141', '#e44849', '#947057', '#251c38', '#5d478d', '#feb4b1', '#0000c8',\n",
    "           '#f17a9c', '#ffc6d5', '#ff99cc', '#67d5ff', '#f0f8ff', '#794740', '#fab631', '#a5a44a', '#28352c', '#0e2024',\n",
    "           '#37526f', '#ad1a2c', '#ba7259', '#6d9da1', '#e15c39', '#929f36', '#deb390', '#d14643', '#74737a', '#65646c',\n",
    "           '#54535c', '#42404a']\n",
    "\n",
    "regions = {'E12000001': 'North East', 'E12000002': 'North West', 'E12000003': 'Yorkshire and the Humber',\n",
    "           'E12000004': 'East Midlands', 'E12000005': 'West Midlands', 'E12000006': 'East of England',\n",
    "           'E12000007': 'London', 'E12000008': 'South East', 'E12000009': 'South West', 'W92000004': 'Wales'}\n",
    "\n",
    "occupations = {1: \"Managers, Directors and Senior Officials\", 2: \"Professional\",\n",
    "               3: \"Associate Professional and Technical\", 4: \"Administrative and Secretarial\",\n",
    "               5: \"Skilled Trades\", 6: \"Caring, Leisure and Other Service\", 7: \"Sales and Customer Service\",\n",
    "               8: \"Process, Plant and Machine Operatives\", 9: \"Elementary\", -9: \"Under 16 never worked\"}\n",
    "\n",
    "ages = {1: \"0 to 15\", 2: \"16 to 24\", 3: \"25 to 34\", 4: \"35 to 44\",\n",
    "        5: \"45 to 54\", 6: \"55 to 64\", 7: \"65 to 74\", 8: \"75 and over\"}\n",
    "\n",
    "economic_acts = {1: \"Employe\", 2: \"Self-employed\", 3: \"Unemployed\", 4: \"Full-time student\",\n",
    "                 5: \"Retired\", 6: \"Student\", 7: \"Looking after home or family\",\n",
    "                 8: \"Long-term sick or disabled\", 9: \"Other\", -9: \"Aged under 16 or students\"}"
   ]
  },
  {
   "cell_type": "code",
   "execution_count": 3,
   "metadata": {
    "collapsed": true,
    "deletable": true,
    "editable": true
   },
   "outputs": [],
   "source": [
    "def analyse(df):\n",
    "    print('Total no of records: ', df.shape[0])\n",
    "    print(df.groupby('Region').size(), '\\n')\n",
    "    print(df.groupby('Residence Type').size(), '\\n')\n",
    "    print(df.groupby('Family Composition').size(), '\\n')\n",
    "    print(df.groupby('Population Base').size(), '\\n')\n",
    "    print(df.groupby('Sex').size(), '\\n')\n",
    "    print(df.groupby('Age').size(), '\\n')\n",
    "    print(df.groupby('Marital Status').size(), '\\n')\n",
    "    print(df.groupby('Student').size(), '\\n')\n",
    "    print(df.groupby('Country of Birth').size(), '\\n')\n",
    "    print(df.groupby('Health').size(), '\\n')\n",
    "    print(df.groupby('Ethnic Group').size(), '\\n')\n",
    "    print(df.groupby('Religion').size(), '\\n')\n",
    "    print(df.groupby('Economic Activity').size(), '\\n')\n",
    "    print(df.groupby('Occupation').size(), '\\n')\n",
    "    print(df.groupby('Industry').size(), '\\n')\n",
    "    print(df.groupby('Hours worked per week').size(), '\\n')\n",
    "    print(df.groupby('Approximated Social Grade').size(), '\\n')"
   ]
  },
  {
   "cell_type": "code",
   "execution_count": 4,
   "metadata": {
    "collapsed": true,
    "deletable": true,
    "editable": true
   },
   "outputs": [],
   "source": [
    "def read_csv(file_name):\n",
    "    df = pd.read_csv(file_name, error_bad_lines=False)\n",
    "    df = df[df['Region'].isin(\n",
    "        ['E12000001', 'E12000002', 'E12000003', 'E12000004', 'E12000005',\n",
    "         'E12000006', 'E12000007', 'E12000008', 'E12000009', 'W92000004'])]\n",
    "    df = df[df['Residence Type'].isin(['C', 'H'])]\n",
    "    df = df[df['Family Composition'].isin([1, 2, 3, 4, 5, 6, -9])]  # can change to: list(range(0, x).append(-9)\n",
    "    df = df[df['Population Base'].isin([1, 2, 3])]\n",
    "    df = df[df['Sex'].isin([1, 2])]\n",
    "    df = df[df['Age'].isin([1, 2, 3, 4, 5, 6, 7, 8])]\n",
    "    df = df[df['Marital Status'].isin([1, 2, 3, 4, 5])]\n",
    "    df = df[df['Student'].isin([1, 2])]\n",
    "    df = df[df['Country of Birth'].isin([1, 2, -9])]\n",
    "    df = df[df['Health'].isin([1, 2, 3, 4, 5, -9])]\n",
    "    df = df[df['Ethnic Group'].isin([1, 2, 3, 4, 5, -9])]\n",
    "    df = df[df['Religion'].isin([1, 2, 3, 4, 5, 6, 7, 8, 9, -9])]\n",
    "    df = df[df['Economic Activity'].isin([1, 2, 3, 4, 5, 6, 7, 8, 9, -9])]\n",
    "    df = df[df['Occupation'].isin([1, 2, 3, 4, 5, 6, 7, 8, 9, -9])]\n",
    "    df = df[df['Industry'].isin([1, 2, 3, 4, 5, 6, 7, 8, 9, 10, 11, 12, -9])]\n",
    "    df = df[df['Hours worked per week'].isin([1, 2, 3, 4, -9])]\n",
    "    df = df[df['Approximated Social Grade'].isin([1, 2, 3, 4, -9])]\n",
    "    df.duplicated(['Person ID'], keep='first')\n",
    "    return df"
   ]
  },
  {
   "cell_type": "code",
   "execution_count": 5,
   "metadata": {
    "collapsed": true,
    "deletable": true,
    "editable": true
   },
   "outputs": [],
   "source": [
    "def create_bar_plot(char_type, df, column, names, title, x_axis, y_axis):\n",
    "    df_size = len(df[column].unique())\n",
    "    color_map = [[x / df_size, x / (df_size * 5.0), 0.2] for x in range(df_size)]\n",
    "    df = df.replace({column: names})\n",
    "    plot = df[column].value_counts().plot(kind=char_type, title=title, color=color_map)\n",
    "    plot.set_xlabel(x_axis)\n",
    "    plot.set_ylabel(y_axis)\n",
    "    plt.show()\n",
    "\n",
    "\n",
    "def create_pie_plot(char_type, df, column, names, title):\n",
    "    df = df.replace({column: names})\n",
    "    df[column].value_counts().plot(kind=char_type, title=title)\n",
    "    plt.show()"
   ]
  },
  {
   "cell_type": "code",
   "execution_count": 41,
   "metadata": {
    "collapsed": false,
    "deletable": true,
    "editable": true
   },
   "outputs": [],
   "source": [
    "data = read_csv('data')"
   ]
  },
  {
   "cell_type": "code",
   "execution_count": 42,
   "metadata": {
    "collapsed": false,
    "deletable": true,
    "editable": true
   },
   "outputs": [
    {
     "name": "stdout",
     "output_type": "stream",
     "text": [
      "Total no of records:  569741\n",
      "Region\n",
      "E12000001    26349\n",
      "E12000002    71436\n",
      "E12000003    53471\n",
      "E12000004    45782\n",
      "E12000005    56875\n",
      "E12000006    59411\n",
      "E12000007    83582\n",
      "E12000008    88084\n",
      "E12000009    53774\n",
      "W92000004    30977\n",
      "dtype: int64 \n",
      "\n",
      "Residence Type\n",
      "C     10654\n",
      "H    559087\n",
      "dtype: int64 \n",
      "\n",
      "Family Composition\n",
      "-9     18851\n",
      " 1     96690\n",
      " 2    300962\n",
      " 3     72641\n",
      " 4      9848\n",
      " 5     64519\n",
      " 6      6230\n",
      "dtype: int64 \n",
      "\n",
      "Population Base\n",
      "1    561040\n",
      "2      6730\n",
      "3      1971\n",
      "dtype: int64 \n",
      "\n",
      "Sex\n",
      "1    280569\n",
      "2    289172\n",
      "dtype: int64 \n",
      "\n",
      "Age\n",
      "1    106832\n",
      "2     72785\n",
      "3     75948\n",
      "4     78641\n",
      "5     77388\n",
      "6     65666\n",
      "7     48777\n",
      "8     43704\n",
      "dtype: int64 \n",
      "\n",
      "Marital Status\n",
      "1    270999\n",
      "2    214180\n",
      "3     11951\n",
      "4     40713\n",
      "5     31898\n",
      "dtype: int64 \n",
      "\n",
      "Student\n",
      "1    126537\n",
      "2    443204\n",
      "dtype: int64 \n",
      "\n",
      "Country of Birth\n",
      "-9      6804\n",
      " 1    485645\n",
      " 2     77292\n",
      "dtype: int64 \n",
      "\n",
      "Health\n",
      "-9      6804\n",
      " 1    264971\n",
      " 2    191744\n",
      " 3     74480\n",
      " 4     24558\n",
      " 5      7184\n",
      "dtype: int64 \n",
      "\n",
      "Ethnic Group\n",
      "-9      6804\n",
      " 1    483477\n",
      " 2     12209\n",
      " 3     42712\n",
      " 4     18786\n",
      " 5      5753\n",
      "dtype: int64 \n",
      "\n",
      "Religion\n",
      "-9      6804\n",
      " 1    141658\n",
      " 2    333481\n",
      " 3      2538\n",
      " 4      8214\n",
      " 5      2572\n",
      " 6     27240\n",
      " 7      4215\n",
      " 8      2406\n",
      " 9     40613\n",
      "dtype: int64 \n",
      "\n",
      "Economic Activity\n",
      "-9    112618\n",
      " 1    216025\n",
      " 2     40632\n",
      " 3     18109\n",
      " 4     14117\n",
      " 5     97480\n",
      " 6     24756\n",
      " 7     17945\n",
      " 8     17991\n",
      " 9     10068\n",
      "dtype: int64 \n",
      "\n",
      "Occupation\n",
      "-9    149984\n",
      " 1     39788\n",
      " 2     64111\n",
      " 3     44937\n",
      " 4     53254\n",
      " 5     48546\n",
      " 6     37297\n",
      " 7     38523\n",
      " 8     34818\n",
      " 9     58483\n",
      "dtype: int64 \n",
      "\n",
      "Industry\n",
      "-9     149984\n",
      " 1       3957\n",
      " 2      53433\n",
      " 3      30708\n",
      " 4      68878\n",
      " 5      25736\n",
      " 6      35240\n",
      " 7      16776\n",
      " 8      49960\n",
      " 9      24908\n",
      " 10     40560\n",
      " 11     49345\n",
      " 12     20256\n",
      "dtype: int64 \n",
      "\n",
      "Hours worked per week\n",
      "-9    302321\n",
      " 1     25776\n",
      " 2     52133\n",
      " 3    153938\n",
      " 4     35573\n",
      "dtype: int64 \n",
      "\n",
      "Approximated Social Grade\n",
      "-9    124103\n",
      " 1     82320\n",
      " 2    159642\n",
      " 3     79936\n",
      " 4    123740\n",
      "dtype: int64 \n",
      "\n"
     ]
    }
   ],
   "source": [
    "analyse(data)"
   ]
  },
  {
   "cell_type": "code",
   "execution_count": null,
   "metadata": {
    "collapsed": false,
    "deletable": true,
    "editable": true,
    "scrolled": true
   },
   "outputs": [],
   "source": [
    "print(tabulate(data, headers=[\"Index\", 'Region', 'Residence Type','Family Composition','Population Base','Sex','Age','Marital Status','Student','Country of Birth','Health','Ethnic Group','Religion','Economic Activity','Occupation','Industry','Hours worked per week','Approximated Social Grade'],tablefmt=\"fancy_grid\"))"
   ]
  },
  {
   "cell_type": "code",
   "execution_count": null,
   "metadata": {
    "collapsed": false,
    "deletable": true,
    "editable": true
   },
   "outputs": [],
   "source": [
    "create_bar_plot('bar', data, 'Region', regions, 'Number of Records for each region', 'Regions', 'No. of Records')"
   ]
  },
  {
   "cell_type": "code",
   "execution_count": null,
   "metadata": {
    "collapsed": false,
    "deletable": true,
    "editable": true
   },
   "outputs": [],
   "source": [
    "create_bar_plot('bar', data, 'Occupation', occupations, 'Number of Records for each Occupation', 'Occupation', 'No. of Records')"
   ]
  },
  {
   "cell_type": "code",
   "execution_count": null,
   "metadata": {
    "collapsed": false,
    "deletable": true,
    "editable": true
   },
   "outputs": [],
   "source": [
    "create_pie_plot('pie', data, 'Age', ages, 'Distribution of the sample by age')"
   ]
  },
  {
   "cell_type": "code",
   "execution_count": null,
   "metadata": {
    "collapsed": false,
    "deletable": true,
    "editable": true,
    "scrolled": true
   },
   "outputs": [],
   "source": [
    "create_pie_plot('pie', data, 'Economic Activity', economic_acts, 'Distribution of the sample by the economic activity')"
   ]
  },
  {
   "cell_type": "code",
   "execution_count": null,
   "metadata": {
    "collapsed": true,
    "deletable": true,
    "editable": true
   },
   "outputs": [],
   "source": [
    "def group(df, col1, col2):\n",
    "    return df.groupby([col1, col2]).size()"
   ]
  },
  {
   "cell_type": "code",
   "execution_count": null,
   "metadata": {
    "collapsed": false,
    "deletable": true,
    "editable": true
   },
   "outputs": [],
   "source": [
    "print(tabulate(group(data, 'Region', 'Industry').reset_index(name='count'), headers=[\"Index\", 'Region', 'Industry', \"Count\"], tablefmt=\"fancy_grid\"))"
   ]
  },
  {
   "cell_type": "code",
   "execution_count": null,
   "metadata": {
    "collapsed": false,
    "deletable": true,
    "editable": true
   },
   "outputs": [],
   "source": [
    "def create_3d_plot(df):\n",
    "    fig = plt.figure()\n",
    "    ax = fig.add_subplot(111, projection='3d')\n",
    "    plt.xticks([-9, 1, 2, 3, 4, 5, 6, 7, 8, 9])\n",
    "    plt.yticks(np.arange(10), df.index.levels[0])\n",
    "    for x in range(len(df.index.levels[0])):\n",
    "        xs = df[df.index.levels[0][x]]\n",
    "        ax.bar(xs.index, xs.values, zs=x, zdir='y')\n",
    "    plt.show()"
   ]
  },
  {
   "cell_type": "code",
   "execution_count": null,
   "metadata": {
    "collapsed": false,
    "deletable": true,
    "editable": true
   },
   "outputs": [],
   "source": [
    "create_3d_plot(group(data, 'Region', 'Industry'))"
   ]
  },
  {
   "cell_type": "code",
   "execution_count": null,
   "metadata": {
    "collapsed": false,
    "deletable": true,
    "editable": true
   },
   "outputs": [],
   "source": [
    "create_3d_plot(group(data, 'Occupation', 'Approximated Social Grade'))"
   ]
  },
  {
   "cell_type": "code",
   "execution_count": null,
   "metadata": {
    "collapsed": true,
    "deletable": true,
    "editable": true
   },
   "outputs": [],
   "source": [
    "def create_plotly_plot(df, col1, col2, title):\n",
    "    gf = df.groupby(col1)\n",
    "    column1 = df[col1].unique()\n",
    "    out = []\n",
    "    for column, fill_color in zip(column1, colours):  # [start:stop:step]\n",
    "        group_1 = gf.get_group(column)\n",
    "        column2 = group_1[col2].tolist()\n",
    "        length = len(column2)\n",
    "        z_axis = [column] * length\n",
    "        count = group_1['count'].tolist()\n",
    "        zeros = [0] * length\n",
    "        out.append(dict(\n",
    "            type='scatter3d',\n",
    "            mode='lines',\n",
    "            x=column2 + column2[::-1] + [column2[0]],\n",
    "            y=z_axis * 2 + [z_axis[0]],\n",
    "            z=count + zeros + [count[0]],\n",
    "            name='',\n",
    "            surfacecolor=fill_color,\n",
    "            surfaceaxis=1,\n",
    "            line=dict(\n",
    "                color='black',\n",
    "                width=4\n",
    "            ),\n",
    "        ))\n",
    "\n",
    "    layout = dict(title=title, showlegend=False,scene=dict(xaxis=dict(title=''),yaxis=dict(title=''),zaxis=dict(title=''),camera=dict(eye=dict(x=-1.7, y=-1.7, z=0.5))))\n",
    "    fig = dict(data=out, layout=layout)\n",
    "    py.iplot(fig, validate=False, filename='3d-lines')"
   ]
  },
  {
   "cell_type": "code",
   "execution_count": null,
   "metadata": {
    "collapsed": false,
    "deletable": true,
    "editable": true
   },
   "outputs": [],
   "source": [
    "create_plotly_plot(group(data, 'Region', 'Industry').reset_index(name='count'), 'Region', 'Industry', 'Region vs Industry')"
   ]
  },
  {
   "cell_type": "code",
   "execution_count": null,
   "metadata": {
    "collapsed": false,
    "deletable": true,
    "editable": true
   },
   "outputs": [],
   "source": [
    "create_plotly_plot(group(data, 'Occupation', 'Approximated Social Grade').reset_index(name='count'), 'Occupation', 'Approximated Social Grade', 'Occupation vs Approximated Social Grade')"
   ]
  },
  {
   "cell_type": "code",
   "execution_count": null,
   "metadata": {
    "collapsed": false,
    "deletable": true,
    "editable": true
   },
   "outputs": [],
   "source": [
    "def create_map(df):\n",
    "    regions_geo = 'regions.geojson'\n",
    "    map = folium.Map(location=[55.3781, 3.4360], zoom_start=3)\n",
    "    map.choropleth(geo_path=regions_geo, data=df,\n",
    "                   columns=['Region', 'Occupation'],\n",
    "                   key_on='feature.id',\n",
    "                   fill_color='YlGn', fill_opacity=0.7, line_opacity=0.2,\n",
    "                   legend_name='Unemployment Rate (%)')"
   ]
  },
  {
   "cell_type": "code",
   "execution_count": null,
   "metadata": {
    "collapsed": false,
    "deletable": true,
    "editable": true
   },
   "outputs": [],
   "source": [
    "map"
   ]
  },
  {
   "cell_type": "code",
   "execution_count": null,
   "metadata": {
    "collapsed": true,
    "deletable": true,
    "editable": true
   },
   "outputs": [],
   "source": []
  }
 ],
 "metadata": {
  "kernelspec": {
   "display_name": "Python 3",
   "language": "python",
   "name": "python3"
  },
  "language_info": {
   "codemirror_mode": {
    "name": "ipython",
    "version": 3
   },
   "file_extension": ".py",
   "mimetype": "text/x-python",
   "name": "python",
   "nbconvert_exporter": "python",
   "pygments_lexer": "ipython3",
   "version": "3.6.1"
  }
 },
 "nbformat": 4,
 "nbformat_minor": 0
}
