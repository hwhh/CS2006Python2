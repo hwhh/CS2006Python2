{
 "cells": [
  {
   "cell_type": "code",
   "execution_count": 1,
   "metadata": {
    "collapsed": false,
    "deletable": true,
    "editable": true
   },
   "outputs": [
    {
     "ename": "ModuleNotFoundError",
     "evalue": "No module named 'pandas'",
     "output_type": "error",
     "traceback": [
      "\u001b[0;31m---------------------------------------------------------------------------\u001b[0m",
      "\u001b[0;31mModuleNotFoundError\u001b[0m                       Traceback (most recent call last)",
      "\u001b[0;32m<ipython-input-1-6037890952df>\u001b[0m in \u001b[0;36m<module>\u001b[0;34m()\u001b[0m\n\u001b[0;32m----> 1\u001b[0;31m \u001b[0;32mimport\u001b[0m \u001b[0mpandas\u001b[0m \u001b[0;32mas\u001b[0m \u001b[0mpd\u001b[0m\u001b[0;34m\u001b[0m\u001b[0m\n\u001b[0m\u001b[1;32m      2\u001b[0m \u001b[0;32mimport\u001b[0m \u001b[0mmatplotlib\u001b[0m\u001b[0;34m.\u001b[0m\u001b[0mpyplot\u001b[0m \u001b[0;32mas\u001b[0m \u001b[0mplt\u001b[0m\u001b[0;34m\u001b[0m\u001b[0m\n\u001b[1;32m      3\u001b[0m \u001b[0;34m\u001b[0m\u001b[0m\n\u001b[1;32m      4\u001b[0m \u001b[0;34m\u001b[0m\u001b[0m\n\u001b[1;32m      5\u001b[0m \u001b[0;34m\u001b[0m\u001b[0m\n",
      "\u001b[0;31mModuleNotFoundError\u001b[0m: No module named 'pandas'"
     ]
    }
   ],
   "source": [
    "import pandas as pd\n",
    "import matplotlib.pyplot as plt\n",
    "\n",
    "\n",
    "\n",
    "def read_csv(file_name):\n",
    "    data = pd.read_csv(file_name, error_bad_lines=False)\n",
    "    data = data[data[\"Region\"].isin([\"E12000001\", \"E12000002\", \"E12000003\", \"E12000004\", \"E12000005\", \"E12000006\", \"E12000007\", \"E12000008\", \"E12000009\", \"W92000004\"])]\n",
    "    data = data[data[\"Residence Type\"].isin(['C', 'H'])]\n",
    "    data = data[data[\"Family Composition\"].isin([1, 2, 3, 4, 5, 6, -9])]# can change to: list(range(0, x).append(-9)\n",
    "    data = data[data[\"Population Base\"].isin([1, 2, 3])]\n",
    "    data = data[data[\"Sex\"].isin([1, 2])]\n",
    "    data = data[data[\"Age\"].isin([1, 2, 3, 4, 5, 6, 7, 8])]\n",
    "    data = data[data[\"Marital Status\"].isin([1, 2, 3, 4, 5])]\n",
    "    data = data[data[\"Student\"].isin([1, 2])]\n",
    "    data = data[data[\"Country of Birth\"].isin([1, 2, -9])]\n",
    "    data = data[data[\"Health\"].isin([1, 2, 3, 4, 5, -9])]\n",
    "    data = data[data[\"Ethnic Group\"].isin([1, 2, 3, 4, 5, -9])]\n",
    "    data = data[data[\"Religion\"].isin([1, 2, 3, 4, 5, 6, 7, 8, 9, -9])]\n",
    "    data = data[data[\"Economic Activity\"].isin([1, 2, 3, 4, 5, 6, 7, 8, 9, -9])]\n",
    "    data = data[data[\"Occupation\"].isin([1, 2, 3, 4, 5, 6, 7, 8, 9, -9])]\n",
    "    data = data[data[\"Industry\"].isin([1, 2, 3, 4, 5, 6, 7, 8, 9, 10, 11, 12, -9])]\n",
    "    data = data[data[\"Hours worked per week\"].isin([1, 2, 3, 4, -9])]\n",
    "    data = data[data[\"Approximated Social Grade\"].isin([1, 2, 3, 4, -9])]\n",
    "    data.duplicated([\"Person ID\"], keep=\"first\")\n",
    "    return data\n",
    "    #data.to_csv('refined.csv', index=False)\n",
    "\n",
    "\n",
    "def create_plot(char_type, data, column):\n",
    "    data[column].value_counts().plot(kind=char_type)\n",
    "    #pl = data.plot(x=data[column], kind=char_type)\n",
    "\n",
    "\n",
    "create_plot(\"bar\", read_csv(\"data\"), \"Region\")"
   ]
  },
  {
   "cell_type": "code",
   "execution_count": null,
   "metadata": {
    "collapsed": true
   },
   "outputs": [],
   "source": []
  }
 ],
 "metadata": {
  "kernelspec": {
   "display_name": "Python 3",
   "language": "python",
   "name": "python3"
  },
  "language_info": {
   "codemirror_mode": {
    "name": "ipython",
    "version": 3
   },
   "file_extension": ".py",
   "mimetype": "text/x-python",
   "name": "python",
   "nbconvert_exporter": "python",
   "pygments_lexer": "ipython3",
   "version": "3.6.0"
  }
 },
 "nbformat": 4,
 "nbformat_minor": 2
}
